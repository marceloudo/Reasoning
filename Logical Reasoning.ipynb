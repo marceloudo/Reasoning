{
 "cells": [
  {
   "cell_type": "markdown",
   "id": "ab22e3ef",
   "metadata": {},
   "source": [
    "***\n",
    "# <font color=green> Logical Reasoning </font>\n",
    "***\n",
    "NLTK (Natural Language Toolkit) is a powerful library for natural language processing (NLP) in Python. It provides various tools, resources, and algorithms for tasks such as text classification, tokenization, stemming, tagging, parsing, semantic reasoning, and more. NLTK is widely used in research and industry for NLP tasks and offers an extensive collection of text corpora and lexicons."
   ]
  },
  {
   "cell_type": "code",
   "execution_count": 2,
   "id": "ac350767",
   "metadata": {},
   "outputs": [],
   "source": [
    "from nltk import *\n",
    "from nltk.sem import Expression\n"
   ]
  },
  {
   "cell_type": "markdown",
   "id": "e534da36",
   "metadata": {},
   "source": [
    "***\n",
    "## <font color=green>1 - Premisses</font>\n",
    "***\n",
    "In logic, an argument requires a set of at least two declarative sentences (or \"propositions\") known as the \"premises\" (or \"premisses\"), along with another declarative sentence (or \"proposition\"), known as the conclusion. This structure of two premises and one conclusion forms the basic argumentative structure. More complex arguments can use a sequence of rules to connect several premises to one conclusion, or to derive a number of conclusions from the original premises which then act as premises for additional conclusions. An example of this is the use of the rules of inference found within symbolic logic."
   ]
  },
  {
   "cell_type": "markdown",
   "id": "c9d5e969",
   "metadata": {},
   "source": [
    "***\n",
    "### <font color=blue>ARISTOTLE'S ORGANON</font>\n",
    "***\n",
    "Aristotle held that any logical argument could be reduced to two premises and a conclusion.<br> Premises are sometimes left unstated, in which case, they are called missing premises, for example:\n",
    "\n",
    "Socrates is mortal because all men are mortal.\n",
    "\n",
    "It is evident that a tacitly understood claim is that Socrates is a man. The fully expressed reasoning is thus:\n",
    "\n",
    "Because all men are mortal and Socrates is a man, Socrates is mortal."
   ]
  },
  {
   "cell_type": "markdown",
   "id": "6953ae83",
   "metadata": {},
   "source": [
    "<font color=blue>By using NLTK, you can codify in first-order logic and have the result regarding your premises.</font>"
   ]
  },
  {
   "cell_type": "code",
   "execution_count": 3,
   "id": "f0ac4f2c",
   "metadata": {},
   "outputs": [
    {
     "name": "stdout",
     "output_type": "stream",
     "text": [
      "[1] {-mortal(socrates)}     A \n",
      "[2] {man(socrates)}         A \n",
      "[3] {-man(z2), mortal(z2)}  A \n",
      "[4] {-man(socrates)}        (1, 3) \n",
      "[5] {mortal(socrates)}      (2, 3) \n",
      "[6] {}                      (1, 5) \n",
      "\n"
     ]
    },
    {
     "data": {
      "text/plain": [
       "True"
      ]
     },
     "execution_count": 3,
     "metadata": {},
     "output_type": "execute_result"
    }
   ],
   "source": [
    "p1 = Expression.fromstring('man(socrates)')\n",
    "p2 = Expression.fromstring('all x.(man(x) -> mortal(x))')\n",
    "c = Expression.fromstring('mortal(socrates)')\n",
    "ResolutionProver().prove(c, [p1, p2], verbose=True)\n"
   ]
  },
  {
   "cell_type": "markdown",
   "id": "bb50f4c7",
   "metadata": {},
   "source": [
    "***\n",
    "### <font color=blue>My example: Catholic Couple</font>\n",
    "***\n",
    "Take a look at my simple example:<br>\n",
    "By the look of married(Udo, Gorete), I know that x is a man and y is a woman => married(x,y)<br>\n",
    "In the same vein, son(z,y) informs me that z is Yudi and y, I also know that is Gorete.\n",
    "<br>\n",
    "So far, the formula all x y z.((son(z,y) & married(x,y)) -> son(z,x)) says to me the following:<br>\n",
    "son(Yudi, Gorete) & married(Udo, Gorete) -> son(Yudi, Udo)\n",
    "<br>\n",
    "\n",
    "<font color=green>So, taking off the contradictions of our time, Yudi is Udo's son because Udo is Gorete's husband, who is Yudi's mother.</font> <br>\n",
    "<font color=purple>QED (Quod erat demonstrandum)!</font>"
   ]
  },
  {
   "cell_type": "code",
   "execution_count": 8,
   "id": "9b32a2de",
   "metadata": {},
   "outputs": [
    {
     "name": "stdout",
     "output_type": "stream",
     "text": [
      "[ 1] {-son(Yudi,Udo)}                              A \n",
      "[ 2] {married(Udo,Gorete)}                         A \n",
      "[ 3] {son(Yudi,Gorete)}                            A \n",
      "[ 4] {-son(z9,z8), -married(z10,z8), son(z9,z10)}  A \n",
      "[ 5] {-son(Yudi,z8), -married(Udo,z8)}             (1, 4) \n",
      "[ 6] {son(z9,Udo), -son(z9,Gorete)}                (2, 4) \n",
      "[ 7] {-son(Yudi,Gorete)}                           (1, 6) \n",
      "[ 8] {-son(Yudi,Gorete)}                           (2, 5) \n",
      "[ 9] {-married(z10,Gorete), son(Yudi,z10)}         (3, 4) \n",
      "[10] {-married(Udo,Gorete)}                        (1, 9) \n",
      "[11] {son(Yudi,Udo)}                               (2, 9) \n",
      "[12] {}                                            (1, 11) \n",
      "\n"
     ]
    },
    {
     "data": {
      "text/plain": [
       "True"
      ]
     },
     "execution_count": 8,
     "metadata": {},
     "output_type": "execute_result"
    }
   ],
   "source": [
    "p1 = Expression.fromstring('married(Udo,Gorete)')\n",
    "p2 = Expression.fromstring('son(Yudi, Gorete)')\n",
    "p3 = Expression.fromstring('all x y z.((son(z,y) & married(x,y)) -> son(z,x))')\n",
    "c = Expression.fromstring('son(Yudi, Udo)')\n",
    "\n",
    "ResolutionProver().prove(c, [p1, p2, p3], verbose=True)\n"
   ]
  },
  {
   "cell_type": "code",
   "execution_count": null,
   "id": "f745308f",
   "metadata": {},
   "outputs": [],
   "source": []
  }
 ],
 "metadata": {
  "kernelspec": {
   "display_name": "Python 3 (ipykernel)",
   "language": "python",
   "name": "python3"
  },
  "language_info": {
   "codemirror_mode": {
    "name": "ipython",
    "version": 3
   },
   "file_extension": ".py",
   "mimetype": "text/x-python",
   "name": "python",
   "nbconvert_exporter": "python",
   "pygments_lexer": "ipython3",
   "version": "3.9.16"
  }
 },
 "nbformat": 4,
 "nbformat_minor": 5
}
