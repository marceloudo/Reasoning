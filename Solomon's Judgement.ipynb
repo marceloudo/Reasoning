{
 "cells": [
  {
   "cell_type": "markdown",
   "id": "9462c7df",
   "metadata": {},
   "source": [
    "# <font color=green>Judgement of Solomon</font>\n",
    "\n",
    "### Cfe 1 Kings 3,16–28, this history is about two women who wanted the same child by alleging to be the real mother.\n",
    "<br>\n",
    "<img src=\"https://drive.google.com/uc?export=view&amp;id=1oyXjsiaviNL0trKDqj6KoSfNNj8agVhY\" align='left' heigh=200 width=400/>\n",
    "<br>\n",
    "16.Then two harlots came to the king, and stood before him.\n",
    "17.The one woman said, \"Oh, my lord, this woman and I dwell in the same house; and I gave birth to a child while she was in the house.\n",
    "18.Then on the third day after I was delivered, this woman also gave birth; and we were alone; there was no one else with us in the house, only we two were in the house.\n",
    "19.And this woman's son died in the night, because she lay on it.\n",
    "20.And she arose at midnight, and took my son from beside me, while your maidservant slept, and laid it in her bosom, and laid her dead son in my bosom.\n",
    "21.When I rose in the morning to nurse my child, behold, it was dead; but when I looked at it closely in the morning, behold, it was not the child that I had borne.\"\n",
    "22.But the other woman said, \"No, the living child is mine, and the dead child is yours.\" The first said, \"No, the dead child is yours, and the living child is mine.\" Thus they spoke before the king.\n",
    "23.Then the king said, \"The one says, `This is my son that is alive, and your son is dead'; and the other says, `No; but your son is dead, and my son is the living one.'\"\n",
    "24.And the king said, \"Bring me a sword.\" So a sword was brought before the king.\n",
    "25.And the king said, \"Divide the living child in two, and give half to the one, and half to the other.\"\n",
    "26.Then the woman whose son was alive said to the king, because her heart yearned for her son, \"Oh, my lord, give her the living child, and by no means slay it.\" But the other said, \"It shall be neither mine nor yours; divide it.\"\n",
    "27.Then the king answered and said, \"Give the living child to the first woman, and by no means slay it; she is its mother.\"\n",
    "28.And all Israel heard of the judgment which the king had rendered; and they stood in awe of the king, because they perceived that the wisdom of God was in him, to render justice."
   ]
  },
  {
   "cell_type": "markdown",
   "id": "0e0ff8b5",
   "metadata": {},
   "source": [
    "## <font color=green> Let's give names to the women:</font>\n",
    "### Anna and Beth"
   ]
  },
  {
   "cell_type": "code",
   "execution_count": 35,
   "id": "96c5f3b4",
   "metadata": {},
   "outputs": [],
   "source": [
    "from nltk.sem import logic\n",
    "from nltk.inference import ResolutionProver"
   ]
  },
  {
   "cell_type": "code",
   "execution_count": 114,
   "id": "b8ddd0c7",
   "metadata": {},
   "outputs": [],
   "source": [
    "# Check if the proof was successful and identify the true mother\n",
    "def judgement(x):\n",
    "    if x == False:\n",
    "        return \"She's not the real mother.\"\n",
    "    else:\n",
    "        return \"She's the real mother.\""
   ]
  },
  {
   "cell_type": "code",
   "execution_count": 148,
   "id": "ec5e6083",
   "metadata": {},
   "outputs": [],
   "source": [
    "# Create an instance of First-Order Logic formula for the rules\n",
    "# Thinking about love, a mother wouldn't accept that her child suffered because of her.\n",
    "\n",
    "rule1 = logic.Expression.fromstring('(true_mother(x,y)-> ~divides(x))')"
   ]
  },
  {
   "cell_type": "code",
   "execution_count": 149,
   "id": "a807982a",
   "metadata": {},
   "outputs": [],
   "source": [
    "# Create a knowledge base using the claims made by the two women\n",
    "kb = logic.Expression.fromstring('(true_mother(Anna, Child) & true_mother(Beth, Child) )')"
   ]
  },
  {
   "cell_type": "code",
   "execution_count": 150,
   "id": "de0a67ba",
   "metadata": {},
   "outputs": [
    {
     "name": "stdout",
     "output_type": "stream",
     "text": [
      "[ 1] {-true_mother(Anna,Child), -~divides(Anna)}          A \n",
      "[ 2] {true_mother(Anna,Child)}                            A \n",
      "[ 3] {true_mother(Beth,Child)}                            A \n",
      "[ 4] {-true_mother(z366,z367), ~divides(z366)}            A \n",
      "[ 5] {-~divides(Anna)}                                    (1, 2) \n",
      "[ 6] {-true_mother(Anna,z367), -true_mother(Anna,Child)}  (1, 4) \n",
      "[ 7] {~divides(Anna)}                                     (2, 4) \n",
      "[ 8] {-true_mother(Anna,Child)}                           (1, 7) \n",
      "[ 9] {-true_mother(Anna,z367)}                            (2, 6) \n",
      "[10] {}                                                   (2, 8) \n",
      "\n"
     ]
    },
    {
     "data": {
      "text/plain": [
       "True"
      ]
     },
     "execution_count": 150,
     "metadata": {},
     "output_type": "execute_result"
    }
   ],
   "source": [
    "c = logic.Expression.fromstring('true_mother(Anna, Child) & ~divides(Anna)')\n",
    "Anna = ResolutionProver().prove(c, [kb, rule1], verbose=True)\n",
    "Anna"
   ]
  },
  {
   "cell_type": "code",
   "execution_count": 151,
   "id": "681ee48c",
   "metadata": {},
   "outputs": [
    {
     "name": "stdout",
     "output_type": "stream",
     "text": [
      "[1] {-true_mother(Anna,Child), -divides(Beth)}  A \n",
      "[2] {true_mother(Anna,Child)}                   A \n",
      "[3] {true_mother(Beth,Child)}                   A \n",
      "[4] {-true_mother(z368,z369), ~divides(z368)}   A \n",
      "[5] {-divides(Beth)}                            (1, 2) \n",
      "[6] {~divides(Anna)}                            (2, 4) \n",
      "[7] {~divides(Beth)}                            (3, 4) \n",
      "\n"
     ]
    },
    {
     "data": {
      "text/plain": [
       "False"
      ]
     },
     "execution_count": 151,
     "metadata": {},
     "output_type": "execute_result"
    }
   ],
   "source": [
    "c = logic.Expression.fromstring('true_mother(Anna, Child) & divides(Beth)')\n",
    "Beth = ResolutionProver().prove(c, [kb, rule1], verbose=True)\n",
    "Beth"
   ]
  },
  {
   "cell_type": "code",
   "execution_count": 152,
   "id": "0e464050",
   "metadata": {},
   "outputs": [
    {
     "data": {
      "text/plain": [
       "\"She's the real mother.\""
      ]
     },
     "execution_count": 152,
     "metadata": {},
     "output_type": "execute_result"
    }
   ],
   "source": [
    "judgement(Anna)"
   ]
  },
  {
   "cell_type": "code",
   "execution_count": 153,
   "id": "2a9f4537",
   "metadata": {},
   "outputs": [
    {
     "data": {
      "text/plain": [
       "\"She's not the real mother.\""
      ]
     },
     "execution_count": 153,
     "metadata": {},
     "output_type": "execute_result"
    }
   ],
   "source": [
    "judgement(Beth)"
   ]
  },
  {
   "cell_type": "code",
   "execution_count": 154,
   "id": "c17b546e",
   "metadata": {},
   "outputs": [],
   "source": [
    "if Anna == True: \n",
    "    mother='Anna'\n",
    "else:\n",
    "    mother='Beth'"
   ]
  },
  {
   "cell_type": "code",
   "execution_count": 155,
   "id": "9f5da589",
   "metadata": {},
   "outputs": [
    {
     "name": "stdout",
     "output_type": "stream",
     "text": [
      "\n",
      "We have a lesson from this story:\n",
      "We had two possible mothers, Anna and Beth. \n",
      "And we used charity (love) as the response purpose for each of them.\n",
      "Anna was shown to be the real mother, and there was no way the child would be divided.\n",
      "And cfe 1 Kings 3, all in Israel perceived that the wisdom of God was in him, to render justice.\n",
      "\n"
     ]
    }
   ],
   "source": [
    "final_judgement = \"\"\"\n",
    "We have a lesson from this story:\n",
    "We had two possible mothers, Anna and Beth. \n",
    "And we used charity (love) as the response purpose for each of them.\n",
    "{} was shown to be the real mother, and there was no way the child would be divided.\n",
    "And cfe 1 Kings 3, all in Israel perceived that the wisdom of God was in him, to render justice.\n",
    "\"\"\".format(mother)\n",
    "\n",
    "print(final_judgement)"
   ]
  },
  {
   "cell_type": "code",
   "execution_count": null,
   "id": "6e4e3547",
   "metadata": {},
   "outputs": [],
   "source": []
  }
 ],
 "metadata": {
  "kernelspec": {
   "display_name": "Python 3 (ipykernel)",
   "language": "python",
   "name": "python3"
  },
  "language_info": {
   "codemirror_mode": {
    "name": "ipython",
    "version": 3
   },
   "file_extension": ".py",
   "mimetype": "text/x-python",
   "name": "python",
   "nbconvert_exporter": "python",
   "pygments_lexer": "ipython3",
   "version": "3.9.16"
  }
 },
 "nbformat": 4,
 "nbformat_minor": 5
}
